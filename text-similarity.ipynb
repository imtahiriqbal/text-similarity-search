{
 "cells": [
  {
   "cell_type": "code",
   "execution_count": null,
   "metadata": {},
   "outputs": [],
   "source": [
    "# Install required libraries\n",
    "!pip install openai faiss-cpu numpy python-dotenv"
   ]
  },
  {
   "cell_type": "code",
   "execution_count": null,
   "metadata": {},
   "outputs": [
    {
     "data": {
      "text/plain": [
       "True"
      ]
     },
     "execution_count": 1,
     "metadata": {},
     "output_type": "execute_result"
    }
   ],
   "source": [
    "# Importing libraries\n",
    "import openai\n",
    "import numpy as np\n",
    "import os\n",
    "from dotenv import load_dotenv\n",
    "\n",
    "# Importing faiss library (Facebook AI Similarity Search)\n",
    "import faiss\n",
    "\n",
    "load_dotenv() # Load environment variables from .env file"
   ]
  },
  {
   "cell_type": "code",
   "execution_count": 2,
   "metadata": {},
   "outputs": [],
   "source": [
    "# Set your OpenAI API key\n",
    "openai.api_key = os.environ[\"API_KEY\"]"
   ]
  },
  {
   "cell_type": "code",
   "execution_count": null,
   "metadata": {},
   "outputs": [],
   "source": [
    "def get_embedding(text, model=\"text-embedding-ada-002\"):\n",
    "    # Text embedding model that coverts text into numeric vector (array)\n",
    "    response = openai.Embedding.create(input=text, model=model)\n",
    "    return np.array(response[\"data\"][0][\"embedding\"])"
   ]
  },
  {
   "cell_type": "code",
   "execution_count": 4,
   "metadata": {},
   "outputs": [],
   "source": [
    "# Example sentences\n",
    "sentences = [\n",
    "    \"I love programming.\",\n",
    "    \"Machine learning is fascinating.\",\n",
    "    \"Deep learning is a subset of machine learning.\",\n",
    "    \"I enjoy writing code in Python.\"\n",
    "]"
   ]
  },
  {
   "cell_type": "code",
   "execution_count": 5,
   "metadata": {},
   "outputs": [],
   "source": [
    "# Generate embeddings for each sentence\n",
    "embeddings = [get_embedding(sentence) for sentence in sentences]"
   ]
  },
  {
   "cell_type": "code",
   "execution_count": 7,
   "metadata": {},
   "outputs": [
    {
     "name": "stdout",
     "output_type": "stream",
     "text": [
      "<class 'list'>\n"
     ]
    },
    {
     "data": {
      "text/plain": [
       "[array([-0.00505038, -0.00910243, -0.01105342, ..., -0.00687739,\n",
       "        -0.00086538, -0.02711806]),\n",
       " array([-0.02653796,  0.00856252,  0.01694327, ..., -0.01533333,\n",
       "        -0.02314931, -0.01226277]),\n",
       " array([-0.02140337, -0.00273163,  0.02488495, ..., -0.0095069 ,\n",
       "        -0.02813528, -0.00824145]),\n",
       " array([ 0.01494298, -0.00142405,  0.01142543, ...,  0.00628465,\n",
       "         0.01327677, -0.04165521])]"
      ]
     },
     "execution_count": 7,
     "metadata": {},
     "output_type": "execute_result"
    }
   ],
   "source": [
    "print(type(embeddings))\n",
    "embeddings"
   ]
  },
  {
   "cell_type": "code",
   "execution_count": 8,
   "metadata": {},
   "outputs": [],
   "source": [
    "# Convert embeddings to NumPy array for efficient processing\n",
    "embeddings = np.array(embeddings)"
   ]
  },
  {
   "cell_type": "code",
   "execution_count": 9,
   "metadata": {},
   "outputs": [
    {
     "name": "stdout",
     "output_type": "stream",
     "text": [
      "<class 'numpy.ndarray'>\n"
     ]
    },
    {
     "data": {
      "text/plain": [
       "array([[-0.00505038, -0.00910243, -0.01105342, ..., -0.00687739,\n",
       "        -0.00086538, -0.02711806],\n",
       "       [-0.02653796,  0.00856252,  0.01694327, ..., -0.01533333,\n",
       "        -0.02314931, -0.01226277],\n",
       "       [-0.02140337, -0.00273163,  0.02488495, ..., -0.0095069 ,\n",
       "        -0.02813528, -0.00824145],\n",
       "       [ 0.01494298, -0.00142405,  0.01142543, ...,  0.00628465,\n",
       "         0.01327677, -0.04165521]])"
      ]
     },
     "execution_count": 9,
     "metadata": {},
     "output_type": "execute_result"
    }
   ],
   "source": [
    "print(type(embeddings))\n",
    "embeddings"
   ]
  },
  {
   "cell_type": "code",
   "execution_count": 10,
   "metadata": {},
   "outputs": [
    {
     "data": {
      "text/plain": [
       "(4, 1536)"
      ]
     },
     "execution_count": 10,
     "metadata": {},
     "output_type": "execute_result"
    }
   ],
   "source": [
    "embeddings.shape"
   ]
  },
  {
   "cell_type": "code",
   "execution_count": 11,
   "metadata": {},
   "outputs": [],
   "source": [
    "# Create FAISS index for similarity search (L2 or Cosine)\n",
    "d = embeddings.shape[1]  # Vector dimension\n",
    "index = faiss.IndexFlatL2(d)\n",
    "index.add(embeddings)  # Store embeddings in FAISS"
   ]
  },
  {
   "cell_type": "code",
   "execution_count": 14,
   "metadata": {},
   "outputs": [
    {
     "data": {
      "text/plain": [
       "1536"
      ]
     },
     "execution_count": 14,
     "metadata": {},
     "output_type": "execute_result"
    }
   ],
   "source": [
    "d"
   ]
  },
  {
   "cell_type": "code",
   "execution_count": 16,
   "metadata": {},
   "outputs": [],
   "source": [
    "# Search for the closest sentence to a query\n",
    "# query = \"I like coding in Python.\"\n",
    "query = \"I'm interested in neural networks.\"\n",
    "query_embedding = get_embedding(query).reshape(1, -1)  # Get embedding"
   ]
  },
  {
   "cell_type": "code",
   "execution_count": 19,
   "metadata": {},
   "outputs": [
    {
     "name": "stdout",
     "output_type": "stream",
     "text": [
      "<class 'numpy.ndarray'>\n"
     ]
    },
    {
     "data": {
      "text/plain": [
       "array([[-0.04367673,  0.00459294,  0.00884181, ..., -0.00616395,\n",
       "        -0.01594383, -0.03006995]])"
      ]
     },
     "execution_count": 19,
     "metadata": {},
     "output_type": "execute_result"
    }
   ],
   "source": [
    "print(type(query_embedding))\n",
    "query_embedding"
   ]
  },
  {
   "cell_type": "code",
   "execution_count": 26,
   "metadata": {},
   "outputs": [],
   "source": [
    "# Perform search\n",
    "k = 2  # Get top 2 closest matches\n",
    "distances, indices = index.search(query_embedding, k) # L2 distance (squared Euclidean distance) and index of 'k' most closest k-nearest sentence"
   ]
  },
  {
   "cell_type": "code",
   "execution_count": 22,
   "metadata": {},
   "outputs": [
    {
     "data": {
      "text/plain": [
       "array([[0.27444547, 0.34549877]], dtype=float32)"
      ]
     },
     "execution_count": 22,
     "metadata": {},
     "output_type": "execute_result"
    }
   ],
   "source": [
    "distances"
   ]
  },
  {
   "cell_type": "code",
   "execution_count": 23,
   "metadata": {},
   "outputs": [
    {
     "data": {
      "text/plain": [
       "array([[1, 2]])"
      ]
     },
     "execution_count": 23,
     "metadata": {},
     "output_type": "execute_result"
    }
   ],
   "source": [
    "indices"
   ]
  },
  {
   "cell_type": "code",
   "execution_count": 24,
   "metadata": {},
   "outputs": [],
   "source": [
    "def cosine_similarity(sentence, query):\n",
    "    # Compute similarity (Cosine Similarity)\n",
    "    similarity = np.dot(sentence, query) / (np.linalg.norm(sentence) * np.linalg.norm(query))\n",
    "    print(f\"Similarity Score: {similarity:.4f}\")"
   ]
  },
  {
   "cell_type": "code",
   "execution_count": 25,
   "metadata": {},
   "outputs": [
    {
     "name": "stdout",
     "output_type": "stream",
     "text": [
      "\n",
      "🔍 Most Similar Sentences with Distance:\n",
      "- Machine learning is fascinating. (L2 distance: 0.2744)\n",
      "Similarity Score: 0.8628\n",
      "- Deep learning is a subset of machine learning. (L2 distance: 0.3455)\n",
      "Similarity Score: 0.8273\n"
     ]
    }
   ],
   "source": [
    "# Print most similar sentences with distance\n",
    "print(\"\\n🔍 Most Similar Sentences with Distance:\")\n",
    "for i, j in zip(distances[0], indices[0]):\n",
    "    print(f\"- {sentences[j]} (L2 distance: {i:.4f})\")\n",
    "    cosine_similarity(get_embedding(sentences[j]), get_embedding(query))"
   ]
  },
  {
   "cell_type": "markdown",
   "metadata": {},
   "source": [
    "### Less L2 distance and high Similarity score indicates more closest similarity\n"
   ]
  }
 ],
 "metadata": {
  "kernelspec": {
   "display_name": "Openai",
   "language": "python",
   "name": "python3"
  },
  "language_info": {
   "codemirror_mode": {
    "name": "ipython",
    "version": 3
   },
   "file_extension": ".py",
   "mimetype": "text/x-python",
   "name": "python",
   "nbconvert_exporter": "python",
   "pygments_lexer": "ipython3",
   "version": "3.11.11"
  }
 },
 "nbformat": 4,
 "nbformat_minor": 2
}
